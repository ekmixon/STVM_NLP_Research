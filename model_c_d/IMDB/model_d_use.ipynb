{
 "cells": [
  {
   "cell_type": "markdown",
   "metadata": {},
   "source": [
    "# TensorFlow 2 - USE: Movie Review Sentiment Analysis Using Universal Sentence Encoder\n",
    "\n",
    "**Dataset**\n",
    "\n",
    "IMDB dataset has 50K movie reviews for natural language processing.\n",
    "Please download the dataset from [Kaggle link for IMDB master](https://www.kaggle.com/uttam94/imdb-mastercsv) and preprocess the data. Use the column \"type\" to seperate training and test datasets if needed as used in this case.\n",
    "\n",
    "**Problem**\n",
    "\n",
    "A review in the IMDB dataset is either positive or negative. Therefore, the NLP movie review sentiment analysis task is a supervised learning binary classification problem."
   ]
  },
  {
   "cell_type": "code",
   "execution_count": 1,
   "metadata": {},
   "outputs": [],
   "source": [
    "# Enable intellisense\n",
    "%config IPCompleter.greedy=True"
   ]
  },
  {
   "cell_type": "code",
   "execution_count": 2,
   "metadata": {},
   "outputs": [
    {
     "name": "stdout",
     "output_type": "stream",
     "text": [
      "TensorFlow Version: 2.2.0\n",
      "Hub version:  0.9.0\n",
      "GPU is available\n"
     ]
    }
   ],
   "source": [
    "# Import modules\n",
    "import pandas as pd\n",
    "import numpy as np\n",
    "import tensorflow as tf\n",
    "import tensorflow_hub as hub\n",
    "from tensorflow.keras.utils import to_categorical\n",
    "from tensorflow.keras.models import  Model\n",
    "from tensorflow.keras.layers import Input, Dense, Dropout\n",
    "from tensorflow.keras.optimizers import Adam\n",
    "from tensorflow.keras.callbacks import ModelCheckpoint, TensorBoard\n",
    "from tqdm import tqdm\n",
    "import matplotlib.pyplot as plt\n",
    "\n",
    "\n",
    "## from ssnet\n",
    "from keras.layers import BatchNormalization, InputLayer, RepeatVector\n",
    "from keras.layers import Dense, Activation, Dropout, Input, LSTM, Flatten\n",
    "\n",
    "print(\"TensorFlow Version:\",tf.__version__)\n",
    "print(\"Hub version: \",hub.__version__)\n",
    "print(\"GPU is\", \"available\" if tf.config.list_physical_devices('GPU') else \"NOT AVAILABLE\")\n",
    "pd.set_option('display.max_colwidth',1000)\n",
    "\n",
    "import importlib"
   ]
  },
  {
   "cell_type": "code",
   "execution_count": 3,
   "metadata": {},
   "outputs": [],
   "source": [
    "import sys\n",
    "sys.path.append(\"./helpers\")\n",
    "import imdb_preprocess_functions as imdb\n",
    "dir(imdb)\n",
    "sys.path.append(\"../model_helpers\")\n",
    "import model_utils as model_utils\n",
    "\n",
    "## USE functions\n",
    "sys.path.append(\"../use_helpers\")\n",
    "import use_functions as iUse"
   ]
  },
  {
   "cell_type": "code",
   "execution_count": 4,
   "metadata": {},
   "outputs": [
    {
     "data": {
      "text/plain": [
       "<module 'use_functions' from '../use_helpers/use_functions.py'>"
      ]
     },
     "execution_count": 4,
     "metadata": {},
     "output_type": "execute_result"
    }
   ],
   "source": [
    "importlib.reload(model_utils)\n",
    "importlib.reload(iUse)"
   ]
  },
  {
   "cell_type": "markdown",
   "metadata": {},
   "source": [
    "## Data preprocessing"
   ]
  },
  {
   "cell_type": "code",
   "execution_count": 5,
   "metadata": {},
   "outputs": [
    {
     "name": "stdout",
     "output_type": "stream",
     "text": [
      "The number of rows and columns in the training dataset is: (25000, 5)\n",
      "Missing values in train dataset:\n",
      "Unnamed: 0    0\n",
      "type          0\n",
      "review        0\n",
      "label         0\n",
      "file          0\n",
      "dtype: int64\n",
      "Check train class balance\n",
      "1.0    12500\n",
      "0.0    12500\n",
      "Name: label, dtype: int64\n",
      "The number of rows and columns in the test dataset is: (25000, 5)\n",
      "Missing values in test dataset:\n",
      "Unnamed: 0    0\n",
      "type          0\n",
      "review        0\n",
      "label         0\n",
      "file          0\n",
      "dtype: int64\n",
      "Check test class balance\n",
      "1.0    12500\n",
      "0.0    12500\n",
      "Name: label, dtype: int64\n"
     ]
    }
   ],
   "source": [
    "# Load imdb master data, return 25K train and 25K test datasets\n",
    "[df_train, df_test] = imdb.get_imdb_df_data('./data/imdb_master.csv')"
   ]
  },
  {
   "cell_type": "code",
   "execution_count": 6,
   "metadata": {},
   "outputs": [],
   "source": [
    "# Preprocess 25K train data. Return review texts with label (positive or negative). Train data is reproducibly shuffled.\n",
    "train_data = text_train, label_train, df_fit_train = imdb.get_fit_data(df_train, True)"
   ]
  },
  {
   "cell_type": "code",
   "execution_count": 7,
   "metadata": {},
   "outputs": [
    {
     "data": {
      "text/plain": [
       "<matplotlib.collections.QuadMesh at 0x7f69adc7f910>"
      ]
     },
     "execution_count": 7,
     "metadata": {},
     "output_type": "execute_result"
    },
    {
     "data": {
      "image/png": "[encoded data removed]",
      "text/plain": [
       "<Figure size 432x288 with 1 Axes>"
      ]
     },
     "metadata": {
      "needs_background": "light"
     },
     "output_type": "display_data"
    }
   ],
   "source": [
    "# Plot class districution before shuffle the training dataset\n",
    "plt.pcolormesh(train_data[1])"
   ]
  },
  {
   "cell_type": "code",
   "execution_count": 8,
   "metadata": {},
   "outputs": [],
   "source": [
    "# model = tf.keras.Sequential()\n",
    "# #model.add(hub_layer)\n",
    "# model.add(tf.keras.layers.Input(shape=(512,)))\n",
    "# model.add(tf.keras.layers.Dense(16, activation='relu'))\n",
    "# model.add(tf.keras.layers.Dense(2, activation=\"softmax\", name=\"predictions\"))\n",
    "\n",
    "# model.summary()\n",
    "\n",
    "# model = tf.keras.Sequential()\n",
    "# model.add(hub_layer)\n",
    "# model.add(\n",
    "#   tf.keras.layers.Dense(\n",
    "#     units=256,\n",
    "#     #input_shape=(512, ),\n",
    "#     activation='relu'\n",
    "#   )\n",
    "# )\n",
    "# model.add(\n",
    "#   tf.keras.layers.Dropout(rate=0.5)\n",
    "# )\n",
    "# model.add(\n",
    "#   tf.keras.layers.Dense(\n",
    "#     units=128,\n",
    "#     activation='relu'\n",
    "#   )\n",
    "# )\n",
    "# model.add(\n",
    "#   tf.keras.layers.Dropout(rate=0.5)\n",
    "# )\n",
    "# model.add(tf.keras.layers.Dense(2, activation='softmax'))\n",
    "\n",
    "# model.summary()\n",
    "# tf.keras.utils.plot_model(model, \"model_d_use.png\", show_shapes=True, dpi=48)"
   ]
  },
  {
   "cell_type": "markdown",
   "metadata": {},
   "source": [
    "## Define run types"
   ]
  },
  {
   "cell_type": "code",
   "execution_count": 9,
   "metadata": {},
   "outputs": [
    {
     "data": {
      "text/plain": [
       "(('FULL', 1, 'Full run'),\n",
       " ('SPLIT',\n",
       "  2,\n",
       "  'Train data is split to two parts, first part is used in training, and second part is used in testing'),\n",
       " ('SHORT',\n",
       "  3,\n",
       "  'Short run using small number of samples to train and test to see if the work flow works correctly'))"
      ]
     },
     "execution_count": 9,
     "metadata": {},
     "output_type": "execute_result"
    }
   ],
   "source": [
    "model_utils.RunType.get_run_detail()"
   ]
  },
  {
   "cell_type": "code",
   "execution_count": 10,
   "metadata": {},
   "outputs": [],
   "source": [
    "# Specify run types, test run size and split training data size\n",
    "RUN_TYPE = model_utils.RunType.SPLIT\n",
    "TEST_RUN_SIZE = 500\n",
    "SPLIT_TRAIN_SIZE = 24000"
   ]
  },
  {
   "cell_type": "code",
   "execution_count": 11,
   "metadata": {},
   "outputs": [
    {
     "data": {
      "text/plain": [
       "<matplotlib.collections.QuadMesh at 0x7f6a00b55b50>"
      ]
     },
     "execution_count": 11,
     "metadata": {},
     "output_type": "execute_result"
    },
    {
     "data": {
      "image/png": "[encoded data removed]",
      "text/plain": [
       "<Figure size 432x288 with 1 Axes>"
      ]
     },
     "metadata": {
      "needs_background": "light"
     },
     "output_type": "display_data"
    }
   ],
   "source": [
    "# Prepare model required final input and output \n",
    "train_final_data = train_data \n",
    "# split train data run\n",
    "if RUN_TYPE is model_utils.RunType.SPLIT:\n",
    "    train_final_data = train_data[0][:SPLIT_TRAIN_SIZE], train_data[1][:SPLIT_TRAIN_SIZE], train_data[2][:SPLIT_TRAIN_SIZE]\n",
    "# test run\n",
    "if RUN_TYPE == model_utils.RunType.SHORT:\n",
    "    train_final_data = train_data[0][:TEST_RUN_SIZE], train_data[1][:TEST_RUN_SIZE], train_data[2][:TEST_RUN_SIZE]\n",
    "    \n",
    "x_train = train_final_data[0]\n",
    "y_train = train_final_data[1]\n",
    "plt.pcolormesh(y_train)\n"
   ]
  },
  {
   "cell_type": "markdown",
   "metadata": {},
   "source": [
    "## Model training"
   ]
  },
  {
   "cell_type": "code",
   "execution_count": 12,
   "metadata": {},
   "outputs": [
    {
     "name": "stdout",
     "output_type": "stream",
     "text": [
      "Model: \"sequential\"\n",
      "_________________________________________________________________\n",
      "Layer (type)                 Output Shape              Param #   \n",
      "=================================================================\n",
      "use_hub_layer (KerasLayer)   (None, 512)               256797824 \n",
      "_________________________________________________________________\n",
      "input_1 (InputLayer)         multiple                  0         \n",
      "_________________________________________________________________\n",
      "dense (Dense)                (None, 16)                8208      \n",
      "_________________________________________________________________\n",
      "predictions (Dense)          (None, 2)                 34        \n",
      "=================================================================\n",
      "Total params: 256,806,066\n",
      "Trainable params: 256,806,066\n",
      "Non-trainable params: 0\n",
      "_________________________________________________________________\n"
     ]
    },
    {
     "data": {
      "image/png": "[encoded data removed]",
      "text/plain": [
       "<IPython.core.display.Image object>"
      ]
     },
     "execution_count": 12,
     "metadata": {},
     "output_type": "execute_result"
    }
   ],
   "source": [
    "use_model_url = \"https://tfhub.dev/google/universal-sentence-encoder/4\"\n",
    "#use_model_url = \"https://tfhub.dev/google/universal-sentence-encoder-large/4\" #This does not work well\n",
    "#use_model_url = \"https://tfhub.dev/google/nnlm-en-dim128-with-normalization/2\"\n",
    "#hub_layer = hub.KerasLayer(use_model_url, output_shape = [512], input_shape = [], dtype = tf.string, trainable = True)\n",
    "model = iUse.get_model(use_model_url, 2, 1)\n",
    "model.summary()\n",
    "tf.keras.utils.plot_model(model, \"model_use.png\", show_shapes=True, dpi=48)"
   ]
  },
  {
   "cell_type": "code",
   "execution_count": 13,
   "metadata": {},
   "outputs": [],
   "source": [
    "# Model parameter set\n",
    "BATCH_SIZE = 100\n",
    "EPOCHS = 7\n",
    "LRATE = 2e-4\n",
    "LOSS = 'categorical_crossentropy'\n",
    "METRICS = 'accuracy'"
   ]
  },
  {
   "cell_type": "code",
   "execution_count": 14,
   "metadata": {},
   "outputs": [],
   "source": [
    "# Specify model name\n",
    "root_name = 'model_use'\n",
    "if RUN_TYPE is model_utils.RunType.FULL:\n",
    "    model_file_name = root_name + '_25000_'\n",
    "if RUN_TYPE is model_utils.RunType.SPLIT:\n",
    "    model_file_name = root_name + '_' + str(SPLIT_TRAIN_SIZE) + '_'\n",
    "model_name = model_file_name + 'epoch_' + str(EPOCHS) + \".h5\"\n",
    "if RUN_TYPE is model_utils.RunType.SHORT:\n",
    "    model_name = \"tmp_\"+ root_name +'_'+ 'epoch_' + str(EPOCHS) + \".h5\""
   ]
  },
  {
   "cell_type": "code",
   "execution_count": 15,
   "metadata": {},
   "outputs": [],
   "source": [
    "# Train the model\n",
    "#tensorboard_callback = tf.keras.callbacks.TensorBoard(log_dir=\"./logs\")\n",
    "\n",
    "#Use Adam optimizer to minimize the categorical_crossentropy loss\n",
    "opt = Adam(learning_rate=LRATE)\n",
    "model.compile(optimizer=opt, \n",
    "              loss=LOSS,\n",
    "              metrics=[METRICS])"
   ]
  },
  {
   "cell_type": "code",
   "execution_count": 16,
   "metadata": {},
   "outputs": [
    {
     "name": "stdout",
     "output_type": "stream",
     "text": [
      "Epoch 1/7\n",
      "240/240 [==============================] - 35s 147ms/step - loss: 0.4702 - accuracy: 0.8079\n",
      "Epoch 2/7\n",
      "240/240 [==============================] - 35s 145ms/step - loss: 0.2130 - accuracy: 0.9227\n",
      "Epoch 3/7\n",
      "240/240 [==============================] - 35s 146ms/step - loss: 0.0736 - accuracy: 0.9801\n",
      "Epoch 4/7\n",
      "240/240 [==============================] - 35s 146ms/step - loss: 0.0225 - accuracy: 0.9964\n",
      "Epoch 5/7\n",
      "240/240 [==============================] - 35s 144ms/step - loss: 0.0096 - accuracy: 0.9986\n",
      "Epoch 6/7\n",
      "240/240 [==============================] - 35s 146ms/step - loss: 0.0042 - accuracy: 0.9996\n",
      "Epoch 7/7\n",
      "240/240 [==============================] - 35s 146ms/step - loss: 0.0026 - accuracy: 0.9998\n",
      "dict_keys(['loss', 'accuracy'])\n"
     ]
    },
    {
     "data": {
      "image/png": "[encoded data removed]",
      "text/plain": [
       "<Figure size 432x288 with 1 Axes>"
      ]
     },
     "metadata": {
      "needs_background": "light"
     },
     "output_type": "display_data"
    },
    {
     "data": {
      "image/png": "[encoded data removed]",
      "text/plain": [
       "<Figure size 432x288 with 1 Axes>"
      ]
     },
     "metadata": {
      "needs_background": "light"
     },
     "output_type": "display_data"
    }
   ],
   "source": [
    "# Fit the data to the model\n",
    "history = model.fit(x_train, y_train,\n",
    "#history = model.fit(X_train, y_train,\n",
    "#history = model.fit(hub_layer (train_data[0][:300]), y_train[:300],\n",
    "    #validation_data=(X_test, y_test),\n",
    "    #validation_split=0.2, # Important: in production, use all training data\n",
    "    epochs=EPOCHS,\n",
    "    batch_size=BATCH_SIZE,\n",
    "    #callbacks=[tensorboard_callback],\n",
    "                    verbose = 1)\n",
    "\n",
    "# Save the trained model\n",
    "model.save(model_name)\n",
    "model_utils.get_history(history)"
   ]
  },
  {
   "cell_type": "code",
   "execution_count": 17,
   "metadata": {},
   "outputs": [],
   "source": [
    "# Load the pretrained nlp_model\n",
    "from tensorflow.keras.models import load_model\n",
    "new_model = load_model(model_name, custom_objects={'KerasLayer':hub.KerasLayer})"
   ]
  },
  {
   "cell_type": "code",
   "execution_count": 18,
   "metadata": {},
   "outputs": [
    {
     "data": {
      "text/plain": [
       "<matplotlib.collections.QuadMesh at 0x7f696c162a00>"
      ]
     },
     "execution_count": 18,
     "metadata": {},
     "output_type": "execute_result"
    },
    {
     "data": {
      "image/png": "[encoded data removed]",
      "text/plain": [
       "<Figure size 432x288 with 1 Axes>"
      ]
     },
     "metadata": {
      "needs_background": "light"
     },
     "output_type": "display_data"
    }
   ],
   "source": [
    "# Preprocess 25K test data. Return review texts with label (positive or negative). \n",
    "# Test data for full run is not shuffled. Test data for short test run is shuffled.\n",
    "# For split run, use train portion of data in testing.\n",
    "\n",
    "need_shuffle = False\n",
    "if RUN_TYPE is model_utils.RunType.SHORT:\n",
    "    need_shuffle = True\n",
    "test_final_data = test_data = text_test, label_test, df_fit_test = imdb.get_fit_data(df_test, need_shuffle)\n",
    "\n",
    "# split train data in test for split run\n",
    "if RUN_TYPE is model_utils.RunType.SPLIT:\n",
    "    test_final_data = train_data[0][SPLIT_TRAIN_SIZE:], train_data[1][SPLIT_TRAIN_SIZE:], train_data[2][SPLIT_TRAIN_SIZE:]\n",
    "# get smaller data size for short test run\n",
    "if RUN_TYPE is model_utils.RunType.SHORT:\n",
    "    test_final_data = test_data[0][:TEST_RUN_SIZE], test_data[1][:TEST_RUN_SIZE], test_data[2][:TEST_RUN_SIZE]\n",
    "\n",
    "x_test = test_final_data[0]\n",
    "y_test = test_final_data[1]\n",
    "plt.pcolormesh(y_test)\n"
   ]
  },
  {
   "cell_type": "code",
   "execution_count": 19,
   "metadata": {},
   "outputs": [
    {
     "name": "stdout",
     "output_type": "stream",
     "text": [
      "10/10 [==============================] - 1s 91ms/step - loss: 0.4053 - accuracy: 0.8830\n",
      "[0.4052802324295044, 0.8830000162124634]\n"
     ]
    }
   ],
   "source": [
    "# Get predictions for test data\n",
    "prediction_prob = model_utils.get_model_performance(model_name, x_test, y_test, BATCH_SIZE)"
   ]
  },
  {
   "cell_type": "code",
   "execution_count": 20,
   "metadata": {},
   "outputs": [],
   "source": [
    "# Create result file\n",
    "result_file_root_name = root_name + '_result'\n",
    "model_utils.output_result(test_final_data[2], result_file_root_name, RUN_TYPE.value, prediction_prob, SPLIT_TRAIN_SIZE)"
   ]
  },
  {
   "cell_type": "code",
   "execution_count": 21,
   "metadata": {},
   "outputs": [
    {
     "name": "stdout",
     "output_type": "stream",
     "text": [
      "196/196 [==============================] - 24s 123ms/step - loss: 0.3995 - accuracy: 0.8864\n",
      "[0.3994869887828827, 0.8863599896430969]\n"
     ]
    },
    {
     "data": {
      "image/png": "[encoded data removed]",
      "text/plain": [
       "<Figure size 432x288 with 1 Axes>"
      ]
     },
     "metadata": {
      "needs_background": "light"
     },
     "output_type": "display_data"
    }
   ],
   "source": [
    "# Run prediction and create result file for 25k test data for split run\n",
    "if RUN_TYPE is model_utils.RunType.SPLIT:\n",
    "    x_test = test_data[0]\n",
    "    y_test = test_data[1]\n",
    "    plt.pcolormesh(y_test)\n",
    "    prediction_prob = model_utils.get_model_performance(model_name, x_test, y_test, 128)\n",
    "    model_utils.output_result(test_data[2], result_file_root_name, RUN_TYPE.value, prediction_prob, SPLIT_TRAIN_SIZE)"
   ]
  },
  {
   "cell_type": "code",
   "execution_count": null,
   "metadata": {},
   "outputs": [],
   "source": []
  }
 ],
 "metadata": {
  "kernelspec": {
   "display_name": "Projects-conda-env-kernel",
   "language": "python",
   "name": "projects-conda-env-kernel"
  },
  "language_info": {
   "codemirror_mode": {
    "name": "ipython",
    "version": 3
   },
   "file_extension": ".py",
   "mimetype": "text/x-python",
   "name": "python",
   "nbconvert_exporter": "python",
   "pygments_lexer": "ipython3",
   "version": "3.8.5"
  }
 },
 "nbformat": 4,
 "nbformat_minor": 4
}
